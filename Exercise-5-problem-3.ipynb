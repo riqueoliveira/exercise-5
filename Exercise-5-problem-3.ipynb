{
 "cells": [
  {
   "cell_type": "markdown",
   "metadata": {
    "deletable": false,
    "editable": false,
    "nbgrader": {
     "cell_type": "markdown",
     "checksum": "2190fdba31b6f247358b0af31bbe343e",
     "grade": false,
     "grade_id": "Intro_text",
     "locked": true,
     "schema_version": 3,
     "solution": false
    }
   },
   "source": [
    "## Problem 3 - Data analysis (4 points)\n",
    "\n",
    "In this problem we will explore our temperature data by comparing spring temperatures between Helsinki Kumpula and Rovaniemi. To do this we'll use some conditions to extract subsets of our data and then analyse these subsets using basic pandas functions. Please perform the tasks below by writing your code into the codeblocks in each section.\n",
    "\n",
    "### Tips for completing this problem\n",
    "\n",
    "- Use **exactly** the same variable names as in the instructions because your answers will be automatically graded, and the tests that grade your answers rely on following the same formatting or variable naming as in the instructions.\n",
    "- **Please do not**:\n",
    "\n",
    "    - **Change the file names**. Do all of your editing in the provided `Exercise-5-problem-3.ipynb` file (this file).\n",
    "    - **Copy/paste cells in this notebook**. We use an automated grading system that will fail if there are copies of code cells.\n",
    "    - **Change the existing cell types**. You can add cells, but changing the cell types for existing cells (from code to markdown, for example) will also cause the automated grader to fail. \n",
    "\n",
    "### Scores for this problem\n",
    "\n",
    "**Your score on this problem will be based on following criteria:**\n",
    "\n",
    "- Calculating the median temperatures for Helsinki Kumpula and Rovaniemi for the summer of 2017\n",
    "- Selecting temperatures for May and June 2017 in separate dataframes for each location\n",
    "- Printing out some summary values for each month (May, June) and location (Kumpula, Rovaniemi)\n",
    "- Including comments that explain what most lines in the code do\n",
    "- Answering a couple questions at the end of the problem\n",
    "- Uploading your notebook and data files to your GitHub repository for this week's exercise"
   ]
  },
  {
   "cell_type": "markdown",
   "metadata": {
    "deletable": false,
    "editable": false,
    "nbgrader": {
     "cell_type": "markdown",
     "checksum": "1b6ab534a2cd475117b7d0016c7cf9f3",
     "grade": false,
     "grade_id": "cell-33c2d0518738c711",
     "locked": true,
     "schema_version": 3,
     "solution": false,
     "task": false
    }
   },
   "source": [
    "### Part 1 (0 points)\n",
    "\n",
    "First, you need to load the data from Problem 2.\n",
    "\n",
    "- Read in the csv files generated in Problem 2 to the variables `kumpula` and `rovaniemi`"
   ]
  },
  {
   "cell_type": "code",
   "execution_count": 1,
   "metadata": {
    "deletable": false,
    "nbgrader": {
     "cell_type": "code",
     "checksum": "deb603f4e6e03059689d01f3d8ca3044",
     "grade": false,
     "grade_id": "problem_3_ag_p1_read_data",
     "locked": false,
     "schema_version": 3,
     "solution": true
    }
   },
   "outputs": [],
   "source": [
    "import pandas as pd\n",
    "\n",
    "kumpula = pd.read_csv('data/Kumpula_temps_May_Aug_2017.csv')\n",
    "rovaniemi = pd.read_csv('data/Rovaniemi_temps_May_Aug_2017.csv')\n",
    "\n",
    "# YOUR CODE HERE\n"
   ]
  },
  {
   "cell_type": "code",
   "execution_count": 2,
   "metadata": {},
   "outputs": [
    {
     "name": "stdout",
     "output_type": "stream",
     "text": [
      "   Unnamed: 0   USAF  YR--MODAHRMN  TEMP   MAX   MIN  Celsius\n",
      "0        8776  29980  201705010600  44.0  44.0  35.0        7\n",
      "1        8788  29980  201705011800  48.0  54.0  43.0        9\n",
      "2        8800  29980  201705020600  50.0  50.0  34.0       10\n",
      "3        8812  29980  201705021800  53.0  61.0  49.0       12\n",
      "4        8824  29980  201705030600  47.0  53.0  38.0        8\n",
      "\n",
      "   Unnamed: 0   USAF  YR--MODAHRMN  TEMP   MAX   MIN  Celsius\n",
      "0          18  28450  201705010600  31.0  34.0  31.0       -1\n",
      "1          54  28450  201705011800  42.0  44.0  30.0        6\n",
      "2          90  28450  201705020600  41.0  42.0  35.0        5\n",
      "3         126  28450  201705021800  37.0  45.0  36.0        3\n",
      "4         161  28450  201705030600  37.0  37.0  33.0        3\n"
     ]
    }
   ],
   "source": [
    "print(kumpula.head())\n",
    "print('')\n",
    "print(rovaniemi.head())"
   ]
  },
  {
   "cell_type": "markdown",
   "metadata": {
    "deletable": false,
    "editable": false,
    "nbgrader": {
     "cell_type": "markdown",
     "checksum": "b74443c30f8df10c1f56cbf265d62a41",
     "grade": false,
     "grade_id": "cell-c25a29efbcf77ee7",
     "locked": true,
     "schema_version": 3,
     "solution": false,
     "task": false
    }
   },
   "source": [
    "### Part 2 (1 points)\n",
    "\n",
    "Next you can find some median temperature values for the period the data covers.\n",
    "\n",
    "- What was the median Celsius temperature during the observed period in:\n",
    "    - Helsinki Kumpula? (store the answer in a variable `kumpula_median`)\n",
    "    - Rovaniemi? (store the answer in a variable `rovaniemi_median`)"
   ]
  },
  {
   "cell_type": "code",
   "execution_count": 5,
   "metadata": {
    "deletable": false,
    "nbgrader": {
     "cell_type": "code",
     "checksum": "975856c4e5d377c3aaabec3af0fe53da",
     "grade": false,
     "grade_id": "problem_3_ag_p2_median",
     "locked": false,
     "schema_version": 3,
     "solution": true
    }
   },
   "outputs": [],
   "source": [
    "kumpula_median = kumpula['Celsius'].median()\n",
    "rovaniemi_median = rovaniemi['Celsius'].median()\n",
    "\n",
    "# YOUR CODE HERE\n"
   ]
  },
  {
   "cell_type": "code",
   "execution_count": 6,
   "metadata": {
    "deletable": false,
    "editable": false,
    "nbgrader": {
     "cell_type": "code",
     "checksum": "c74731bd13e85d92c4c9c1b77dabc589",
     "grade": true,
     "grade_id": "problem_3_ag_p2_median_test",
     "locked": true,
     "points": 1,
     "schema_version": 3,
     "solution": false
    }
   },
   "outputs": [
    {
     "name": "stdout",
     "output_type": "stream",
     "text": [
      "Kumpula median: 15.0\n",
      "Rovaniemi median: 12.0\n"
     ]
    }
   ],
   "source": [
    "# Prints the median temperatures\n",
    "print(f\"Kumpula median: {kumpula_median}\")\n",
    "print(f\"Rovaniemi median: {rovaniemi_median}\")\n"
   ]
  },
  {
   "cell_type": "markdown",
   "metadata": {
    "deletable": false,
    "editable": false,
    "nbgrader": {
     "cell_type": "markdown",
     "checksum": "177502bb4ee7abc753b57a16250f3c15",
     "grade": false,
     "grade_id": "cell-6eda08b036b421d9",
     "locked": true,
     "schema_version": 3,
     "solution": false,
     "task": false
    }
   },
   "source": [
    "### Part 3 (2 points)\n",
    "\n",
    "The median temperatures above consider data from the entire summer (May-Aug), hence the differences might not be so clear. Let's now find out the mean temperatures from May and June 2017 in Kumpula and Rovaniemi.\n",
    "\n",
    "- From the `kumpula` and `rovaniemi` DataFrames, select the rows where values of the `YR--MODAHRMN` column are from May 2017\n",
    "    - Assign these selected rows into the variables `kumpula_may` and `rovaniemi_may` (you can check the [hints](https://geo-python.github.io/site/lessons/L5/exercise-5.html) for help!)\n",
    "- Repeat the procedure for the month of June and assign those values into variables to `kumpula_june` and `rovaniemi_june`"
   ]
  },
  {
   "cell_type": "code",
   "execution_count": 34,
   "metadata": {
    "deletable": false,
    "nbgrader": {
     "cell_type": "code",
     "checksum": "e658e48c072ada99e4541860ebaf0095",
     "grade": false,
     "grade_id": "problem_3_ag_p3_may",
     "locked": false,
     "schema_version": 3,
     "solution": true
    }
   },
   "outputs": [],
   "source": [
    "# Select the subset of the Kumpula and Rovaniemi data for the 5th and 6th month\n",
    "kumpula_may = kumpula.loc[(kumpula['YR--MODAHRMN'] >= 201705010000) & (kumpula['YR--MODAHRMN'] < 201706010000)]\n",
    "rovaniemi_may = rovaniemi.loc[(rovaniemi['YR--MODAHRMN'] >= 201705010000) & (rovaniemi['YR--MODAHRMN'] < 201706010000)]\n",
    "\n",
    "kumpula_june = kumpula.loc[(kumpula['YR--MODAHRMN'] >= 201706010000) & (kumpula['YR--MODAHRMN'] < 201707010000)]\n",
    "rovaniemi_june = rovaniemi.loc[(rovaniemi['YR--MODAHRMN'] >= 201706010000) & (rovaniemi['YR--MODAHRMN'] < 201707010000)]\n",
    "\n",
    "# YOUR CODE HERE\n"
   ]
  },
  {
   "cell_type": "markdown",
   "metadata": {
    "deletable": false,
    "editable": false,
    "nbgrader": {
     "cell_type": "markdown",
     "checksum": "ced113a7a44f6c3bc88de58a3dc62056",
     "grade": false,
     "grade_id": "cell-c20a16ae3d1442cb",
     "locked": true,
     "schema_version": 3,
     "solution": false,
     "task": false
    }
   },
   "source": [
    "Check that the subsets look ok:"
   ]
  },
  {
   "cell_type": "code",
   "execution_count": 35,
   "metadata": {
    "deletable": false,
    "editable": false,
    "nbgrader": {
     "cell_type": "code",
     "checksum": "2b46b5ac73b0c1ecdec568ab8da5f07d",
     "grade": true,
     "grade_id": "problem_3_ag_p3_Kumpula_may_test",
     "locked": true,
     "points": 0.5,
     "schema_version": 3,
     "solution": false
    }
   },
   "outputs": [
    {
     "name": "stdout",
     "output_type": "stream",
     "text": [
      "First values in May, Kumpula:\n",
      "   Unnamed: 0   USAF  YR--MODAHRMN  TEMP   MAX   MIN  Celsius\n",
      "0        8776  29980  201705010600  44.0  44.0  35.0        7\n",
      "1        8788  29980  201705011800  48.0  54.0  43.0        9\n",
      "2        8800  29980  201705020600  50.0  50.0  34.0       10\n",
      "3        8812  29980  201705021800  53.0  61.0  49.0       12\n",
      "4        8824  29980  201705030600  47.0  53.0  38.0        8\n",
      "\n",
      "Last values in May, Kumpula:\n",
      "    Unnamed: 0   USAF  YR--MODAHRMN  TEMP   MAX   MIN  Celsius\n",
      "57        9457  29980  201705291800  55.0  67.0  55.0       13\n",
      "58        9469  29980  201705300600  52.0  55.0  40.0       11\n",
      "59        9481  29980  201705301800  48.0  56.0  48.0        9\n",
      "60        9493  29980  201705310600  49.0  49.0  47.0        9\n",
      "61        9505  29980  201705311800  53.0  61.0  49.0       12\n"
     ]
    }
   ],
   "source": [
    "print(f\"First values in May, Kumpula:\\n{kumpula_may.head()}\\n\")\n",
    "print(f\"Last values in May, Kumpula:\\n{kumpula_may.tail()}\")"
   ]
  },
  {
   "cell_type": "code",
   "execution_count": 36,
   "metadata": {
    "deletable": false,
    "editable": false,
    "nbgrader": {
     "cell_type": "code",
     "checksum": "e4d83fa396f745a05cfd902c4107fc23",
     "grade": true,
     "grade_id": "problem_3_ag_p3_Kumpula_june_test",
     "locked": true,
     "points": 0.5,
     "schema_version": 3,
     "solution": false,
     "task": false
    }
   },
   "outputs": [
    {
     "name": "stdout",
     "output_type": "stream",
     "text": [
      "First values in June, Kumpula:\n",
      "    Unnamed: 0   USAF  YR--MODAHRMN  TEMP   MAX   MIN  Celsius\n",
      "62        9517  29980  201706010600  48.0  53.0  40.0        9\n",
      "63        9529  29980  201706011800  44.0  52.0  42.0        7\n",
      "64        9541  29980  201706020600  44.0  44.0  36.0        7\n",
      "65        9553  29980  201706021800  47.0  49.0  43.0        8\n",
      "66        9565  29980  201706030600  48.0  48.0  38.0        9\n",
      "\n",
      "Last values in June, Kumpula:\n",
      "     Unnamed: 0   USAF  YR--MODAHRMN  TEMP   MAX   MIN  Celsius\n",
      "116       10172  29980  201706281800  60.0  68.0  60.0       16\n",
      "117       10184  29980  201706290600  61.0  61.0  47.0       16\n",
      "118       10196  29980  201706291800  65.0  69.0  61.0       18\n",
      "119       10208  29980  201706300600  61.0  65.0  58.0       16\n",
      "120       10219  29980  201706301800  65.0  68.0  61.0       18\n"
     ]
    }
   ],
   "source": [
    "print(f\"First values in June, Kumpula:\\n{kumpula_june.head()}\\n\")\n",
    "print(f\"Last values in June, Kumpula:\\n{kumpula_june.tail()}\")"
   ]
  },
  {
   "cell_type": "code",
   "execution_count": 37,
   "metadata": {
    "deletable": false,
    "editable": false,
    "nbgrader": {
     "cell_type": "code",
     "checksum": "227099ba97029cbeb597834860f637b2",
     "grade": true,
     "grade_id": "problem_3_ag_p3_Rovaniemi_may_test",
     "locked": true,
     "points": 0.5,
     "schema_version": 3,
     "solution": false
    }
   },
   "outputs": [
    {
     "name": "stdout",
     "output_type": "stream",
     "text": [
      "First values in May, Rovaniemi:\n",
      "   Unnamed: 0   USAF  YR--MODAHRMN  TEMP   MAX   MIN  Celsius\n",
      "0          18  28450  201705010600  31.0  34.0  31.0       -1\n",
      "1          54  28450  201705011800  42.0  44.0  30.0        6\n",
      "2          90  28450  201705020600  41.0  42.0  35.0        5\n",
      "3         126  28450  201705021800  37.0  45.0  36.0        3\n",
      "4         161  28450  201705030600  37.0  37.0  33.0        3\n",
      "\n",
      "Last values in May, Rovaniemi:\n",
      "    Unnamed: 0   USAF  YR--MODAHRMN  TEMP   MAX   MIN  Celsius\n",
      "57        2060  28450  201705291800  42.0  44.0  39.0        6\n",
      "58        2096  28450  201705300600  41.0  42.0  31.0        5\n",
      "59        2132  28450  201705301800  46.0  49.0  40.0        8\n",
      "60        2168  28450  201705310600  36.0  45.0  33.0        2\n",
      "61        2204  28450  201705311800  42.0  46.0  36.0        6\n"
     ]
    }
   ],
   "source": [
    "print(f\"First values in May, Rovaniemi:\\n{rovaniemi_may.head()}\\n\")\n",
    "print(f\"Last values in May, Rovaniemi:\\n{rovaniemi_may.tail()}\")"
   ]
  },
  {
   "cell_type": "code",
   "execution_count": 38,
   "metadata": {
    "deletable": false,
    "editable": false,
    "nbgrader": {
     "cell_type": "code",
     "checksum": "b1479509bbe424439169f91d57fa1c54",
     "grade": true,
     "grade_id": "problem_3_ag_p3_Rovaniemi_june_test",
     "locked": true,
     "points": 0.5,
     "schema_version": 3,
     "solution": false,
     "task": false
    }
   },
   "outputs": [
    {
     "name": "stdout",
     "output_type": "stream",
     "text": [
      "First values in June, Rovaniemi:\n",
      "    Unnamed: 0   USAF  YR--MODAHRMN  TEMP   MAX   MIN  Celsius\n",
      "62        2240  28450  201706010600  34.0  42.0  30.0        1\n",
      "63        2276  28450  201706011800  36.0  44.0  34.0        2\n",
      "64        2312  28450  201706020600  36.0  36.0  32.0        2\n",
      "65        2348  28450  201706021800  38.0  43.0  36.0        3\n",
      "66        2384  28450  201706030600  36.0  38.0  35.0        2\n",
      "\n",
      "Last values in June, Rovaniemi:\n",
      "     Unnamed: 0   USAF  YR--MODAHRMN  TEMP   MAX   MIN  Celsius\n",
      "116        4204  28450  201706281800  55.0  59.0  48.0       13\n",
      "117        4240  28450  201706290600  53.0  55.0  50.0       12\n",
      "118        4276  28450  201706291800  58.0  65.0  53.0       14\n",
      "119        4304  28450  201706300600  62.0  62.0  51.0       17\n",
      "120        4331  28450  201706301800  67.0  71.0  61.0       19\n"
     ]
    }
   ],
   "source": [
    "print(f\"First values in June, Rovaniemi:\\n{rovaniemi_june.head()}\\n\")\n",
    "print(f\"Last values in June, Rovaniemi:\\n{rovaniemi_june.tail()}\")"
   ]
  },
  {
   "cell_type": "markdown",
   "metadata": {
    "deletable": false,
    "editable": false,
    "nbgrader": {
     "cell_type": "markdown",
     "checksum": "a65a68a4bf3075ccc9de3bb5ce5266c1",
     "grade": false,
     "grade_id": "cell-5d735e872f16ccd5",
     "locked": true,
     "schema_version": 3,
     "solution": false,
     "task": false
    }
   },
   "source": [
    "### Part 4 (1 point)\n",
    "\n",
    "Now you can make your temperature data from both locations and months easier to compare by printing out a few useful values.\n",
    "\n",
    "- Use the `print()` function to show the mean, min and max Celsius temperatures for both places in May and June using the new subset dataframes (`kumpula_may`, `rovaniemi_may`, `kumpula_june`, and `rovaniemi_june`)."
   ]
  },
  {
   "cell_type": "code",
   "execution_count": 59,
   "metadata": {
    "deletable": false,
    "nbgrader": {
     "cell_type": "code",
     "checksum": "12a6c95dd173d219530d35b72f81490f",
     "grade": true,
     "grade_id": "problem_3_mg_p4_May_and_June_stats",
     "locked": false,
     "points": 1,
     "schema_version": 3,
     "solution": true
    }
   },
   "outputs": [
    {
     "name": "stdout",
     "output_type": "stream",
     "text": [
      "The mean, min and max temperatures in May for Kumpula were: 10.0, 2, 18\n",
      "The mean, min, and max temperatures in May for Rovaniemi were: 3.5, -3, 12\n",
      "The mean, min and max temperatures in June for Kumpula were: 14.2, 7, 21\n",
      "The mean, min, and max temperatures in June for Rovaniemi were: 11.7, 1, 22\n"
     ]
    }
   ],
   "source": [
    "# YOUR CODE HERE\n",
    "# use the .mean(), .min(), and .max() inside the f string\n",
    "# Here I had to use different quitation marks for the f string (\"\") and for calling a specific column ('')\n",
    "\n",
    "print(f\"The mean, min and max temperatures in May for Kumpula were: {kumpula_may['Celsius'].mean():.1f}, {kumpula_may['Celsius'].min()}, {kumpula_may['Celsius'].max()}\")\n",
    "\n",
    "print(f\"The mean, min, and max temperatures in May for Rovaniemi were: {rovaniemi_may['Celsius'].mean():.1f}, {rovaniemi_may['Celsius'].min()}, {rovaniemi_may['Celsius'].max()}\")\n",
    "\n",
    "print(f\"The mean, min and max temperatures in June for Kumpula were: {kumpula_june['Celsius'].mean():.1f}, {kumpula_june['Celsius'].min()}, {kumpula_june['Celsius'].max()}\")\n",
    "\n",
    "print(f\"The mean, min, and max temperatures in June for Rovaniemi were: {rovaniemi_june['Celsius'].mean():.1f}, {rovaniemi_june['Celsius'].min()}, {rovaniemi_june['Celsius'].max()}\")\n"
   ]
  },
  {
   "cell_type": "markdown",
   "metadata": {
    "deletable": false,
    "editable": false,
    "nbgrader": {
     "cell_type": "markdown",
     "checksum": "c19a758e3ace532979854894a73433a0",
     "grade": false,
     "grade_id": "comments",
     "locked": true,
     "schema_version": 3,
     "solution": false
    }
   },
   "source": [
    "### Problem 3 summary\n",
    "\n",
    "In the spirit of [knowledge discovery](http://researcher.ibm.com/researcher/view_group.php?id=144), let's briefly interpret the results of the data analysis in Problem 3. Please answer the following questions based on the data analysis results from this problem:\n",
    "\n",
    "- Does there seem to be a large difference in temperatures between the months?\n",
    "- Is Rovaniemi a much colder place than Kumpula?\n",
    "\n",
    "Also, be sure to:\n",
    "\n",
    "- Check that your code includes informative comments explaining what your code does\n",
    "- Commit and push your changes to your GitHub repository for Exercise 5"
   ]
  },
  {
   "cell_type": "markdown",
   "metadata": {
    "deletable": false,
    "nbgrader": {
     "cell_type": "markdown",
     "checksum": "1f0848d8fe16e12f1951ccdd1b5edf83",
     "grade": true,
     "grade_id": "problem_3_mg_p5_questions",
     "locked": false,
     "points": 0,
     "schema_version": 3,
     "solution": true,
     "task": false
    }
   },
   "source": [
    "## ANSWER\n",
    "\n",
    "All mean, min and max temperatures seem to be significantly different between months and places. The mean temperature change between May and June was higher for Rovaniemi than for Kumpula.\n",
    "Rovaniemi had lower mean and min temperatures than Kumpula, but slightly higher max temperature in June."
   ]
  },
  {
   "cell_type": "markdown",
   "metadata": {
    "deletable": false,
    "editable": false,
    "nbgrader": {
     "cell_type": "markdown",
     "checksum": "0e5f52b74f4ffaea57ca77ace2732647",
     "grade": false,
     "grade_id": "text",
     "locked": true,
     "schema_version": 3,
     "solution": false
    }
   },
   "source": [
    "### On to Problem 4 (*optional*)\n",
    "\n",
    "Now you can continue to the *optional* [Problem 4: Data analysis](Exercise-5-problem-4.ipynb)"
   ]
  }
 ],
 "metadata": {
  "anaconda-cloud": {},
  "hide_input": false,
  "kernelspec": {
   "display_name": "Python 3 (ipykernel)",
   "language": "python",
   "name": "python3"
  },
  "language_info": {
   "codemirror_mode": {
    "name": "ipython",
    "version": 3
   },
   "file_extension": ".py",
   "mimetype": "text/x-python",
   "name": "python",
   "nbconvert_exporter": "python",
   "pygments_lexer": "ipython3",
   "version": "3.9.7"
  }
 },
 "nbformat": 4,
 "nbformat_minor": 4
}
